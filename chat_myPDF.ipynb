{
 "cells": [
  {
   "metadata": {},
   "cell_type": "markdown",
   "source": "# RAG with LangChain, Ollama, and FAISS Vector Store",
   "id": "a36efa837ee4a49"
  },
  {
   "metadata": {},
   "cell_type": "markdown",
   "source": [
    "## PDF Dataset: \n",
    "https://github.com/aydiegithub/rag-system-ollama/tree/dac3b4563a66b8b11962aaa08349ba5138be396a/rag-dataset-main"
   ],
   "id": "b0255993f2c3ba04"
  },
  {
   "metadata": {},
   "cell_type": "markdown",
   "source": "![Document Ingestion](flowcharts/Flowchart.png)",
   "id": "f86ee17a06bbf6e7"
  },
  {
   "metadata": {
    "ExecuteTime": {
     "end_time": "2025-07-05T15:58:16.405750Z",
     "start_time": "2025-07-05T15:58:16.403040Z"
    }
   },
   "cell_type": "code",
   "source": "# pip install -U langchain-community faiss-cpu langchain-huggingface pymupdf tiktoken langchain-ollama python-dotenv",
   "id": "19cfa02030611dfa",
   "outputs": [],
   "execution_count": 1
  },
  {
   "metadata": {
    "ExecuteTime": {
     "end_time": "2025-07-05T15:58:16.417723Z",
     "start_time": "2025-07-05T15:58:16.415697Z"
    }
   },
   "cell_type": "code",
   "source": [
    "import warnings\n",
    "warnings.filterwarnings(\"ignore\")"
   ],
   "id": "9e8bf279a90db4f2",
   "outputs": [],
   "execution_count": 2
  },
  {
   "metadata": {
    "ExecuteTime": {
     "end_time": "2025-07-05T15:58:16.437330Z",
     "start_time": "2025-07-05T15:58:16.429293Z"
    }
   },
   "cell_type": "code",
   "source": [
    "import os\n",
    "from dotenv import load_dotenv\n",
    "\n",
    "os.environ['KMP_DUPLICATE_LIB_OK'] = 'True'\n",
    "load_dotenv()"
   ],
   "id": "a53ba1b5de63fef6",
   "outputs": [
    {
     "data": {
      "text/plain": [
       "True"
      ]
     },
     "execution_count": 3,
     "metadata": {},
     "output_type": "execute_result"
    }
   ],
   "execution_count": 3
  },
  {
   "metadata": {},
   "cell_type": "markdown",
   "source": "## Document loader",
   "id": "59a42dfe45d02b65"
  },
  {
   "metadata": {
    "ExecuteTime": {
     "end_time": "2025-07-05T15:58:17.234079Z",
     "start_time": "2025-07-05T15:58:16.438724Z"
    }
   },
   "cell_type": "code",
   "source": [
    "from langchain_community.document_loaders import PyMuPDFLoader\n",
    "\n",
    "loader = PyMuPDFLoader(\"rag-dataset-main/machine-learning/MACHINE LEARNING(R17A0534).pdf\")\n",
    "\n",
    "docs = loader.load()"
   ],
   "id": "3b0e5b2ac78a13f8",
   "outputs": [],
   "execution_count": 4
  },
  {
   "metadata": {
    "ExecuteTime": {
     "end_time": "2025-07-05T15:58:17.236466Z",
     "start_time": "2025-07-05T15:58:17.234738Z"
    }
   },
   "cell_type": "code",
   "source": "doc = docs[10]",
   "id": "99a2a7f29c0c59c8",
   "outputs": [],
   "execution_count": 5
  },
  {
   "metadata": {
    "ExecuteTime": {
     "end_time": "2025-07-05T15:58:17.240255Z",
     "start_time": "2025-07-05T15:58:17.238209Z"
    }
   },
   "cell_type": "code",
   "source": "print(doc.page_content)",
   "id": "6e0257c598125717",
   "outputs": [
    {
     "name": "stdout",
     "output_type": "stream",
     "text": [
      "6 \n",
      " \n",
      "covers less distance physically than by train because a plane is unrestricted. Similarly, in chess, the \n",
      "concept of distance depends on the piece used – for example, a Bishop can move diagonally.   Thus, \n",
      "depending on the entity and the mode of travel, the concept of distance can be experienced differently. \n",
      "The distance metrics commonly used are Euclidean, Minkowski, Manhattan, and Mahalanobis. \n",
      " \n",
      " \n",
      "Distance is applied through the concept of neighbours and exemplars. Neighbours are points in \n",
      "proximity with respect to the distance measure expressed through exemplars. Exemplars are \n",
      "either centroids that ﬁnd a centre of mass according to a chosen distance metric or medoids that ﬁnd \n",
      "the most centrally located data point. The most commonly used centroid is the arithmetic mean, which \n",
      "minimises squared Euclidean distance to all other points. \n",
      " \n",
      "Notes: \n",
      " \n",
      "The centroid represents the geometric centre of a plane figure, i.e., the arithmetic mean \n",
      "position of all the points in the figure from the centroid point. This definition extends to any \n",
      "object in n-dimensional space: its centroid is the mean position of all the points. \n",
      " \n",
      "Medoids are similar in concept to means or centroids. Medoids are most commonly used on \n",
      "data when a mean or centroid cannot be defined. They are used in contexts where the centroid \n",
      "is not representative of the dataset, such as in image data. \n",
      " \n",
      "Examples of distance-based models include the nearest-neighbour models, which use the training data \n",
      "as exemplars – for example, in classification. The K-means clustering algorithm also uses exemplars to \n",
      "create clusters of similar data points. \n",
      " \n",
      "1.3.3 Probabilistic models \n",
      "The third family of machine learning algorithms is the probabilistic models. We have seen \n",
      "before that the k-nearest neighbour algorithm uses the idea of distance (e.g., Euclidian distance) to \n",
      "classify entities, and logical models use a logical expression to partition the instance space. In this \n",
      "section, we see how the probabilistic models use the idea of probability to classify new entities. \n",
      " \n",
      "Probabilistic models see features and target variables as random variables. The process of modelling \n",
      "represents and manipulates the level of uncertainty with respect to these variables. There are two \n",
      "types of probabilistic models: Predictive and Generative. Predictive probability models use the idea of \n",
      "a conditional probability distribution P (Y |X) from which Y can be predicted from X.  Generative models \n",
      "estimate the joint distribution P (Y, X).  Once we know the joint distribution for the generative models, \n",
      "we can derive any conditional or marginal distribution involving the same variables. Thus, the \n",
      "generative model is capable of creating new data points and their labels, knowing the joint probability \n",
      "distribution. The joint distribution looks for a relationship between two variables. Once this relationship \n",
      "is inferred, it is possible to infer new data points. \n",
      "Naïve Bayes is an example of a probabilistic classifier. \n",
      " \n",
      "We can do this using the Bayes rule defined as\n"
     ]
    }
   ],
   "execution_count": 6
  },
  {
   "metadata": {},
   "cell_type": "markdown",
   "source": "## Load all the pdfs",
   "id": "c8c58c78e91d79f1"
  },
  {
   "metadata": {
    "ExecuteTime": {
     "end_time": "2025-07-05T15:58:17.244961Z",
     "start_time": "2025-07-05T15:58:17.241400Z"
    }
   },
   "cell_type": "code",
   "source": [
    "import os\n",
    "\n",
    "pdfs = []\n",
    "\n",
    "for root, dirs, files in os.walk('rag-dataset-main'):\n",
    "    # print(root, dirs, files)\n",
    "    for file in files:\n",
    "        if file.endswith('.pdf'):\n",
    "            pdfs.append(os.path.join(root, file))\n",
    "\n",
    "pdfs"
   ],
   "id": "aacc5938f676b89b",
   "outputs": [
    {
     "data": {
      "text/plain": [
       "['rag-dataset-main/machine-learning/CSIT_(R22)_3-2_MACHINE LEARNING_DIGITAL NOTES.pdf',\n",
       " 'rag-dataset-main/machine-learning/NotesOnMachineLearningForBTech-1.pdf',\n",
       " 'rag-dataset-main/machine-learning/ML_notes_22.pdf',\n",
       " 'rag-dataset-main/machine-learning/COS324_Course_Notes.pdf',\n",
       " 'rag-dataset-main/machine-learning/2505.03861v1.pdf',\n",
       " 'rag-dataset-main/machine-learning/MACHINE LEARNING(R17A0534).pdf']"
      ]
     },
     "execution_count": 7,
     "metadata": {},
     "output_type": "execute_result"
    }
   ],
   "execution_count": 7
  },
  {
   "metadata": {
    "ExecuteTime": {
     "end_time": "2025-07-05T15:58:19.101683Z",
     "start_time": "2025-07-05T15:58:17.245555Z"
    }
   },
   "cell_type": "code",
   "source": [
    "docs = []\n",
    "\n",
    "for pdf in pdfs:\n",
    "    loader = PyMuPDFLoader(pdf)\n",
    "    pages = loader.load()\n",
    "    \n",
    "    docs.extend(pages)"
   ],
   "id": "a274ddeb1a1a0511",
   "outputs": [],
   "execution_count": 8
  },
  {
   "metadata": {
    "ExecuteTime": {
     "end_time": "2025-07-05T15:58:19.105603Z",
     "start_time": "2025-07-05T15:58:19.102621Z"
    }
   },
   "cell_type": "code",
   "source": "len(docs) # number of pages in document",
   "id": "955ba197a95796bb",
   "outputs": [
    {
     "data": {
      "text/plain": [
       "1060"
      ]
     },
     "execution_count": 9,
     "metadata": {},
     "output_type": "execute_result"
    }
   ],
   "execution_count": 9
  },
  {
   "metadata": {},
   "cell_type": "markdown",
   "source": "## Document Chuncking",
   "id": "4f4312cff059543c"
  },
  {
   "metadata": {
    "ExecuteTime": {
     "end_time": "2025-07-05T15:58:19.107738Z",
     "start_time": "2025-07-05T15:58:19.106358Z"
    }
   },
   "cell_type": "code",
   "source": "# pip install -qU langchain-text-splitters",
   "id": "cd4d49d8432ea0f",
   "outputs": [],
   "execution_count": 10
  },
  {
   "metadata": {
    "ExecuteTime": {
     "end_time": "2025-07-05T16:06:29.814732Z",
     "start_time": "2025-07-05T16:06:29.765167Z"
    }
   },
   "cell_type": "code",
   "source": [
    "from langchain_text_splitters import RecursiveCharacterTextSplitter\n",
    "\n",
    "text_splitter = RecursiveCharacterTextSplitter(chunk_size = 1000, chunk_overlap = 100)\n",
    "\n",
    "chunks = text_splitter.split_documents(docs)"
   ],
   "id": "7580167cec397a17",
   "outputs": [],
   "execution_count": 23
  },
  {
   "metadata": {
    "ExecuteTime": {
     "end_time": "2025-07-05T16:06:30.134869Z",
     "start_time": "2025-07-05T16:06:30.132355Z"
    }
   },
   "cell_type": "code",
   "source": "len(docs), len(chunks)",
   "id": "67a1aa2d159b2cde",
   "outputs": [
    {
     "data": {
      "text/plain": [
       "(1060, 2440)"
      ]
     },
     "execution_count": 24,
     "metadata": {},
     "output_type": "execute_result"
    }
   ],
   "execution_count": 24
  },
  {
   "metadata": {
    "ExecuteTime": {
     "end_time": "2025-07-05T17:03:25.800122Z",
     "start_time": "2025-07-05T17:03:25.797249Z"
    }
   },
   "cell_type": "code",
   "source": "print(chunks[100].page_content)",
   "id": "1b79bdb07429ed5a",
   "outputs": [
    {
     "name": "stdout",
     "output_type": "stream",
     "text": [
      "CSIT DEPT-R22-MACHINE LEARNING \n",
      "48 \n",
      " \n",
      "The multi-layer perceptron model is also known as the Backpropagation algorithm, which \n",
      "executes in two stages as follows: \n",
      " \n",
      "Forward Stage: Activation functions start from the input layer in the forward stage \n",
      "and terminate on the output layer. \n",
      " \n",
      "Backward Stage: In the backward stage, weight and bias values are modified as per \n",
      "the model's requirement. In this stage, the error between actual output and demanded \n",
      "originated backward on the output layer and ended on the input layer. \n",
      "Hence, a multi-layered perceptron model has considered as multiple artificial neural networks \n",
      "having various layers in which activation function does not remain linear, similar to a single \n",
      "layer perceptron model. Instead of linear, activation function can be executed as sigmoid, \n",
      "TanH, ReLU, etc., for deployment. \n",
      "A multi-layer perceptron model has greater processing power and can process linear and non-\n"
     ]
    }
   ],
   "execution_count": 30
  },
  {
   "metadata": {
    "ExecuteTime": {
     "end_time": "2025-07-05T17:04:03.526979Z",
     "start_time": "2025-07-05T17:04:03.524209Z"
    }
   },
   "cell_type": "code",
   "source": "len(chunks[100].page_content)",
   "id": "5013e7c46b9f3974",
   "outputs": [
    {
     "data": {
      "text/plain": [
       "938"
      ]
     },
     "execution_count": 33,
     "metadata": {},
     "output_type": "execute_result"
    }
   ],
   "execution_count": 33
  },
  {
   "metadata": {
    "ExecuteTime": {
     "end_time": "2025-07-05T17:05:11.577223Z",
     "start_time": "2025-07-05T17:05:03.186226Z"
    }
   },
   "cell_type": "code",
   "source": [
    "import tiktoken\n",
    "\n",
    "encoding = tiktoken.encoding_for_model(\"gpt-4o-mini\")"
   ],
   "id": "59ed901a792f87a4",
   "outputs": [],
   "execution_count": 34
  },
  {
   "metadata": {
    "ExecuteTime": {
     "end_time": "2025-07-05T17:06:11.421272Z",
     "start_time": "2025-07-05T17:06:11.418350Z"
    }
   },
   "cell_type": "code",
   "source": "len(encoding.encode(chunks[2].page_content))",
   "id": "a6d342538d7cde06",
   "outputs": [
    {
     "data": {
      "text/plain": [
       "164"
      ]
     },
     "execution_count": 39,
     "metadata": {},
     "output_type": "execute_result"
    }
   ],
   "execution_count": 39
  },
  {
   "metadata": {
    "ExecuteTime": {
     "end_time": "2025-07-05T17:06:16.904931Z",
     "start_time": "2025-07-05T17:06:16.902236Z"
    }
   },
   "cell_type": "code",
   "source": "len(encoding.encode(docs[2].page_content))",
   "id": "b3d873ca9d589066",
   "outputs": [
    {
     "data": {
      "text/plain": [
       "314"
      ]
     },
     "execution_count": 40,
     "metadata": {},
     "output_type": "execute_result"
    }
   ],
   "execution_count": 40
  },
  {
   "metadata": {},
   "cell_type": "markdown",
   "source": "## Document Vector Embedding",
   "id": "a36d320c39f66392"
  },
  {
   "metadata": {},
   "cell_type": "code",
   "outputs": [],
   "execution_count": null,
   "source": "",
   "id": "23822ebeadba7c22"
  }
 ],
 "metadata": {
  "kernelspec": {
   "display_name": "Python 3",
   "language": "python",
   "name": "python3"
  },
  "language_info": {
   "codemirror_mode": {
    "name": "ipython",
    "version": 2
   },
   "file_extension": ".py",
   "mimetype": "text/x-python",
   "name": "python",
   "nbconvert_exporter": "python",
   "pygments_lexer": "ipython2",
   "version": "2.7.6"
  }
 },
 "nbformat": 4,
 "nbformat_minor": 5
}
