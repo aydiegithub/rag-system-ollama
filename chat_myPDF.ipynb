{
 "cells": [
  {
   "metadata": {},
   "cell_type": "markdown",
   "source": "# RAG with LangChain, Ollama, and FAISS Vector Store",
   "id": "a36efa837ee4a49"
  },
  {
   "metadata": {},
   "cell_type": "markdown",
   "source": [
    "## PDF Dataset: \n",
    "https://github.com/aydiegithub/rag-system-ollama/tree/dac3b4563a66b8b11962aaa08349ba5138be396a/rag-dataset-main"
   ],
   "id": "b0255993f2c3ba04"
  },
  {
   "metadata": {},
   "cell_type": "markdown",
   "source": "![Document Ingestion](flowcharts/Flowchart.png)",
   "id": "f86ee17a06bbf6e7"
  },
  {
   "metadata": {
    "ExecuteTime": {
     "end_time": "2025-07-05T13:26:34.965519Z",
     "start_time": "2025-07-05T13:26:34.963648Z"
    }
   },
   "cell_type": "code",
   "source": "",
   "id": "19cfa02030611dfa",
   "outputs": [],
   "execution_count": null
  },
  {
   "metadata": {},
   "cell_type": "code",
   "outputs": [],
   "execution_count": null,
   "source": "",
   "id": "a53ba1b5de63fef6"
  }
 ],
 "metadata": {
  "kernelspec": {
   "display_name": "Python 3",
   "language": "python",
   "name": "python3"
  },
  "language_info": {
   "codemirror_mode": {
    "name": "ipython",
    "version": 2
   },
   "file_extension": ".py",
   "mimetype": "text/x-python",
   "name": "python",
   "nbconvert_exporter": "python",
   "pygments_lexer": "ipython2",
   "version": "2.7.6"
  }
 },
 "nbformat": 4,
 "nbformat_minor": 5
}
